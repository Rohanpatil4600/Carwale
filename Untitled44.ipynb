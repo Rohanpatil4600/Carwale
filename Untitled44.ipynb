{
 "cells": [
  {
   "cell_type": "code",
   "execution_count": 1,
   "id": "46141c57",
   "metadata": {},
   "outputs": [],
   "source": [
    "import pandas as pd"
   ]
  },
  {
   "cell_type": "code",
   "execution_count": 2,
   "id": "7bc443aa",
   "metadata": {},
   "outputs": [],
   "source": [
    "import numpy as np"
   ]
  },
  {
   "cell_type": "code",
   "execution_count": 3,
   "id": "d839ef08",
   "metadata": {},
   "outputs": [],
   "source": [
    "df=pd.read_csv('carwale_unclean.csv')"
   ]
  },
  {
   "cell_type": "code",
   "execution_count": 24,
   "id": "84f8032e",
   "metadata": {},
   "outputs": [],
   "source": [
    "df['price1']=df['price'].str.split(' ',expand=True)[1]"
   ]
  },
  {
   "cell_type": "code",
   "execution_count": 32,
   "id": "d41e6a93",
   "metadata": {},
   "outputs": [],
   "source": [
    "df['price2']=df['price'].str.split(' ',expand=True)[2].str.replace('Lakh','100000')"
   ]
  },
  {
   "cell_type": "code",
   "execution_count": null,
   "id": "2d076c92",
   "metadata": {},
   "outputs": [],
   "source": []
  },
  {
   "cell_type": "code",
   "execution_count": 39,
   "id": "a18ce31a",
   "metadata": {},
   "outputs": [
    {
     "data": {
      "text/plain": [
       "array(['100000', '10000000', None], dtype=object)"
      ]
     },
     "execution_count": 39,
     "metadata": {},
     "output_type": "execute_result"
    }
   ],
   "source": [
    "df['price2'].unique()"
   ]
  },
  {
   "cell_type": "code",
   "execution_count": 38,
   "id": "eba01808",
   "metadata": {},
   "outputs": [],
   "source": [
    "df['price2']=df['price2'].str.replace('Crore','10000000')"
   ]
  },
  {
   "cell_type": "code",
   "execution_count": 44,
   "id": "1a68a71e",
   "metadata": {},
   "outputs": [
    {
     "data": {
      "text/html": [
       "<div>\n",
       "<style scoped>\n",
       "    .dataframe tbody tr th:only-of-type {\n",
       "        vertical-align: middle;\n",
       "    }\n",
       "\n",
       "    .dataframe tbody tr th {\n",
       "        vertical-align: top;\n",
       "    }\n",
       "\n",
       "    .dataframe thead th {\n",
       "        text-align: right;\n",
       "    }\n",
       "</style>\n",
       "<table border=\"1\" class=\"dataframe\">\n",
       "  <thead>\n",
       "    <tr style=\"text-align: right;\">\n",
       "      <th></th>\n",
       "      <th>Unnamed: 0</th>\n",
       "      <th>name</th>\n",
       "      <th>price</th>\n",
       "      <th>year</th>\n",
       "      <th>kms</th>\n",
       "      <th>fuel</th>\n",
       "      <th>city</th>\n",
       "      <th>homedrive</th>\n",
       "      <th>emi</th>\n",
       "      <th>price1</th>\n",
       "      <th>price2</th>\n",
       "    </tr>\n",
       "  </thead>\n",
       "  <tbody>\n",
       "  </tbody>\n",
       "</table>\n",
       "</div>"
      ],
      "text/plain": [
       "Empty DataFrame\n",
       "Columns: [Unnamed: 0, name, price, year, kms, fuel, city, homedrive, emi, price1, price2]\n",
       "Index: []"
      ]
     },
     "execution_count": 44,
     "metadata": {},
     "output_type": "execute_result"
    }
   ],
   "source": [
    "df[df['price2'].isna()]"
   ]
  },
  {
   "cell_type": "code",
   "execution_count": 43,
   "id": "8c4fe228",
   "metadata": {},
   "outputs": [],
   "source": [
    "df['price2']=df['price2'].fillna(1)"
   ]
  },
  {
   "cell_type": "code",
   "execution_count": 50,
   "id": "b14f2988",
   "metadata": {},
   "outputs": [],
   "source": [
    "df['price1']=df['price1'].str.replace(',','')"
   ]
  },
  {
   "cell_type": "code",
   "execution_count": 53,
   "id": "55e97c96",
   "metadata": {},
   "outputs": [],
   "source": [
    "df['price1']=df['price1'].astype(float)"
   ]
  },
  {
   "cell_type": "code",
   "execution_count": 54,
   "id": "04fed9ee",
   "metadata": {},
   "outputs": [],
   "source": [
    "df['price2']=df['price2'].astype(int)"
   ]
  },
  {
   "cell_type": "code",
   "execution_count": 56,
   "id": "2ba4648c",
   "metadata": {},
   "outputs": [],
   "source": [
    "df['price']=df['price1']*df['price2']"
   ]
  },
  {
   "cell_type": "code",
   "execution_count": 62,
   "id": "661526a3",
   "metadata": {},
   "outputs": [],
   "source": [
    "df.drop(['price1'],axis=1,inplace=True)"
   ]
  },
  {
   "cell_type": "code",
   "execution_count": 63,
   "id": "ef46e03a",
   "metadata": {},
   "outputs": [],
   "source": [
    "df.drop(['price2'],axis=1,inplace=True)"
   ]
  },
  {
   "cell_type": "code",
   "execution_count": 65,
   "id": "57149711",
   "metadata": {},
   "outputs": [],
   "source": [
    "df.drop(['Unnamed: 0'],axis=1,inplace=True)"
   ]
  },
  {
   "cell_type": "code",
   "execution_count": 68,
   "id": "1055cb3c",
   "metadata": {},
   "outputs": [],
   "source": [
    "df=df.rename(columns={'homedrive':'tags'})"
   ]
  },
  {
   "cell_type": "code",
   "execution_count": 77,
   "id": "c2a424af",
   "metadata": {},
   "outputs": [],
   "source": [
    "df['company']=df['name'].str.split(' ',expand=True)[0]"
   ]
  },
  {
   "cell_type": "code",
   "execution_count": 80,
   "id": "6da21e2f",
   "metadata": {},
   "outputs": [],
   "source": [
    "df['company']=df['company'].str.replace('Maruti','Maruti Suzuki')"
   ]
  },
  {
   "cell_type": "code",
   "execution_count": 82,
   "id": "36074ee2",
   "metadata": {},
   "outputs": [],
   "source": [
    "temp=df['name'].str.split(' ',expand=True)"
   ]
  },
  {
   "cell_type": "code",
   "execution_count": 111,
   "id": "1a86c37c",
   "metadata": {},
   "outputs": [],
   "source": [
    "x=temp_df.iloc[:,1:].shift(1,axis=1).values"
   ]
  },
  {
   "cell_type": "code",
   "execution_count": 110,
   "id": "ed07c757",
   "metadata": {},
   "outputs": [],
   "source": [
    "temp_df=temp[temp[0]!='Maruti']"
   ]
  },
  {
   "cell_type": "code",
   "execution_count": 112,
   "id": "0cc8a0a1",
   "metadata": {},
   "outputs": [],
   "source": [
    "temp.loc[temp_df.index,temp_df.columns[1:]]=x"
   ]
  },
  {
   "cell_type": "code",
   "execution_count": 115,
   "id": "45848689",
   "metadata": {},
   "outputs": [],
   "source": [
    "df['car_name']=temp[2]"
   ]
  },
  {
   "cell_type": "code",
   "execution_count": 122,
   "id": "ed11325b",
   "metadata": {},
   "outputs": [],
   "source": [
    "df['engine_spec']=temp[4]"
   ]
  },
  {
   "cell_type": "code",
   "execution_count": 125,
   "id": "c0acc12d",
   "metadata": {},
   "outputs": [
    {
     "data": {
      "text/plain": [
       "array(['Baleno', 'Verna', 'Vitara', 'Hector', 'Wagon', '3', 'Innova',\n",
       "       'S90', 'Alto', 'Swift', 'Grand', 'Ciaz', 'X1', 'City', 'Amaze',\n",
       "       'Corolla', 'Ertiga', 'Kwid', 'Ameo', 'EcoSport', 'Elite', 'Jazz',\n",
       "       'XL6', 'Tiago', 'Mobilio', 'Creta', 'Santro', 'Endeavour',\n",
       "       'XUV500', 'Altroz', 'Astor', 'Triber', 'GTI', 'GLS', 'Seltos',\n",
       "       'Nexon', 'Q3', 'WR-V', 'Octavia', 'Rover', 'Polo', 'TUV300',\n",
       "       'E-Class', 'A4', 'GLC', 'A3', 'Eon', 'Dzire', 'Duster', 'Etios',\n",
       "       'Scorpio', 'i20', 'Terrano', 'Brio', 'C-Class', '5', '718', 'S60',\n",
       "       'Compass', 'Accord', 'Estilo', 'Celerio', 'Xcent', 'i10', 'Aspire',\n",
       "       'Yaris', 'Superb', 'Harrier', 'Sunny', 'Laura', 'Thar', 'S-Presso',\n",
       "       'Ignis', 'Glanza', 'V40', '6', 'X5', 'Cooper', 'XUV300', 'Safari',\n",
       "       'Venue', 'Sonet', 'XC40', 'Ritz', 'Rapid', 'Fortuner', 'redi-GO',\n",
       "       'Alturas', 'S-Cross', 'Elantra', 'Civic', 'XUV700', 'BR-V', 'CR-V',\n",
       "       'Vento', 'Gloster', 'ZS', 'X3', 'Jetta', 'i4', 'GLA', 'Tigor',\n",
       "       'Lodgy', 'Cruze', 'Q7', 'Taigun', 'Carens', 'GLE', 'Urban', 'Q5',\n",
       "       'Figo', 'Camry', 'Aura', 'B-Class', 'CLA', 'Cayenne', '7', 'A8',\n",
       "       'XE', 'S5', 'XJ', 'Continental', 'Evalia', 'GO', 'Slavia', 'Land',\n",
       "       'Kushaq', 'M-Class', 'A6', 'Tiguan', 'SX4', 'Zest', 'Eeco',\n",
       "       'Sonata', 'Hexa', 'Marazzo', 'Micra', 'Magnite', 'AMG', 'R-Class',\n",
       "       'Pulse', 'LX', 'XC90', 'F-Pace', 'Carnival', 'D-Max', 'NX',\n",
       "       'Abarth', 'e2o', 'Yeti', 'Z4', 'T-Roc', 'MU-X', 'Pajero', 'Santa',\n",
       "       'XC60', 'Kicks', 'C5', 'XF', 'Omni', 'Beat', 'C-Coupe', 'X7',\n",
       "       'S-Class', 'A-Star', 'Manza', 'Fabia', 'EQC', 'Tucson',\n",
       "       'Countryman', 'Bolero', 'KUV100', 'Kiger', 'Alcazar', 'Fiesta',\n",
       "       'MU7', 'Enjoy', 'Freestyle'], dtype=object)"
      ]
     },
     "execution_count": 125,
     "metadata": {},
     "output_type": "execute_result"
    }
   ],
   "source": [
    "temp[2].unique()"
   ]
  },
  {
   "cell_type": "code",
   "execution_count": 148,
   "id": "f90e46e6",
   "metadata": {},
   "outputs": [
    {
     "data": {
      "text/html": [
       "<div>\n",
       "<style scoped>\n",
       "    .dataframe tbody tr th:only-of-type {\n",
       "        vertical-align: middle;\n",
       "    }\n",
       "\n",
       "    .dataframe tbody tr th {\n",
       "        vertical-align: top;\n",
       "    }\n",
       "\n",
       "    .dataframe thead th {\n",
       "        text-align: right;\n",
       "    }\n",
       "</style>\n",
       "<table border=\"1\" class=\"dataframe\">\n",
       "  <thead>\n",
       "    <tr style=\"text-align: right;\">\n",
       "      <th></th>\n",
       "      <th>0</th>\n",
       "      <th>1</th>\n",
       "      <th>2</th>\n",
       "      <th>3</th>\n",
       "      <th>4</th>\n",
       "      <th>5</th>\n",
       "      <th>6</th>\n",
       "      <th>7</th>\n",
       "      <th>8</th>\n",
       "      <th>9</th>\n",
       "    </tr>\n",
       "  </thead>\n",
       "  <tbody>\n",
       "    <tr>\n",
       "      <th>1979</th>\n",
       "      <td>Ford</td>\n",
       "      <td>NaN</td>\n",
       "      <td>Fiesta</td>\n",
       "      <td>Classic</td>\n",
       "      <td>LXi</td>\n",
       "      <td>1.6</td>\n",
       "      <td>None</td>\n",
       "      <td>None</td>\n",
       "      <td>None</td>\n",
       "      <td>None</td>\n",
       "    </tr>\n",
       "  </tbody>\n",
       "</table>\n",
       "</div>"
      ],
      "text/plain": [
       "         0    1       2        3    4    5     6     7     8     9\n",
       "1979  Ford  NaN  Fiesta  Classic  LXi  1.6  None  None  None  None"
      ]
     },
     "execution_count": 148,
     "metadata": {},
     "output_type": "execute_result"
    }
   ],
   "source": [
    "temp[temp[2]=='Fiesta']"
   ]
  },
  {
   "cell_type": "code",
   "execution_count": 135,
   "id": "5ab11561",
   "metadata": {},
   "outputs": [
    {
     "data": {
      "text/plain": [
       "R            135\n",
       "VXi          132\n",
       "i10           88\n",
       "i20           68\n",
       "V             67\n",
       "            ... \n",
       "V-Cross        1\n",
       "W8(O)          1\n",
       "Facelift       1\n",
       "300h           1\n",
       "Signature      1\n",
       "Name: 3, Length: 237, dtype: int64"
      ]
     },
     "execution_count": 135,
     "metadata": {},
     "output_type": "execute_result"
    }
   ],
   "source": [
    "temp[3].value_counts()"
   ]
  },
  {
   "cell_type": "code",
   "execution_count": 150,
   "id": "69e0034b",
   "metadata": {},
   "outputs": [],
   "source": [
    "list=['Vitara','3','5','6','7','Wagon','Grand','Corolla','Elite','Compass','Urban']"
   ]
  },
  {
   "cell_type": "code",
   "execution_count": 161,
   "id": "eac73fab",
   "metadata": {},
   "outputs": [],
   "source": [
    "temp_df1=temp[~(temp[2].isin(list))]"
   ]
  },
  {
   "cell_type": "code",
   "execution_count": 170,
   "id": "3ffef33e",
   "metadata": {},
   "outputs": [],
   "source": [
    "y=temp_df1.iloc[:,3:].shift(1,axis=1).values"
   ]
  },
  {
   "cell_type": "code",
   "execution_count": 171,
   "id": "7656f036",
   "metadata": {},
   "outputs": [],
   "source": [
    "temp.loc[temp_df1.index,temp_df1.columns[3:]]=y"
   ]
  },
  {
   "cell_type": "code",
   "execution_count": 179,
   "id": "24041763",
   "metadata": {},
   "outputs": [],
   "source": [
    "temp[3]=temp[3].fillna(' ')"
   ]
  },
  {
   "cell_type": "code",
   "execution_count": 182,
   "id": "3e9bd818",
   "metadata": {},
   "outputs": [],
   "source": [
    "temp[10] = temp[2].str.cat(temp[3], sep=' ')\n"
   ]
  },
  {
   "cell_type": "code",
   "execution_count": 185,
   "id": "f25af156",
   "metadata": {},
   "outputs": [],
   "source": [
    "df['car_name']=temp[10]"
   ]
  },
  {
   "cell_type": "code",
   "execution_count": 186,
   "id": "233ea08b",
   "metadata": {},
   "outputs": [
    {
     "data": {
      "text/html": [
       "<div>\n",
       "<style scoped>\n",
       "    .dataframe tbody tr th:only-of-type {\n",
       "        vertical-align: middle;\n",
       "    }\n",
       "\n",
       "    .dataframe tbody tr th {\n",
       "        vertical-align: top;\n",
       "    }\n",
       "\n",
       "    .dataframe thead th {\n",
       "        text-align: right;\n",
       "    }\n",
       "</style>\n",
       "<table border=\"1\" class=\"dataframe\">\n",
       "  <thead>\n",
       "    <tr style=\"text-align: right;\">\n",
       "      <th></th>\n",
       "      <th>name</th>\n",
       "      <th>price</th>\n",
       "      <th>year</th>\n",
       "      <th>kms</th>\n",
       "      <th>fuel</th>\n",
       "      <th>city</th>\n",
       "      <th>tags</th>\n",
       "      <th>emi</th>\n",
       "      <th>company</th>\n",
       "      <th>car_name</th>\n",
       "      <th>engine_spec</th>\n",
       "    </tr>\n",
       "  </thead>\n",
       "  <tbody>\n",
       "    <tr>\n",
       "      <th>0</th>\n",
       "      <td>Maruti Suzuki Baleno Delta 1.2</td>\n",
       "      <td>476000.0</td>\n",
       "      <td>2016</td>\n",
       "      <td>79,710 km</td>\n",
       "      <td>Petrol</td>\n",
       "      <td>Delhi</td>\n",
       "      <td>NaN</td>\n",
       "      <td>EMI starts at₹7,904</td>\n",
       "      <td>Maruti Suzuki</td>\n",
       "      <td>Baleno</td>\n",
       "      <td>1.2</td>\n",
       "    </tr>\n",
       "    <tr>\n",
       "      <th>1</th>\n",
       "      <td>Hyundai Verna Fluidic 1.6 VTVT SX</td>\n",
       "      <td>560000.0</td>\n",
       "      <td>2014</td>\n",
       "      <td>67,000 km</td>\n",
       "      <td>Petrol</td>\n",
       "      <td>Delhi</td>\n",
       "      <td>Home Test Drive</td>\n",
       "      <td>EMI starts at₹9,299</td>\n",
       "      <td>Hyundai</td>\n",
       "      <td>Verna</td>\n",
       "      <td>1.6</td>\n",
       "    </tr>\n",
       "    <tr>\n",
       "      <th>2</th>\n",
       "      <td>Maruti Suzuki Vitara Brezza ZDi</td>\n",
       "      <td>670000.0</td>\n",
       "      <td>2017</td>\n",
       "      <td>78,184 km</td>\n",
       "      <td>Diesel</td>\n",
       "      <td>Delhi</td>\n",
       "      <td>Home Test Drive</td>\n",
       "      <td>EMI starts at₹11,126</td>\n",
       "      <td>Maruti Suzuki</td>\n",
       "      <td>Vitara Brezza</td>\n",
       "      <td>ZDi</td>\n",
       "    </tr>\n",
       "    <tr>\n",
       "      <th>3</th>\n",
       "      <td>MG Hector Sharp 1.5 DCT Petrol [2019-2020]</td>\n",
       "      <td>1790000.0</td>\n",
       "      <td>2019</td>\n",
       "      <td>42,046 km</td>\n",
       "      <td>Petrol</td>\n",
       "      <td>Gurgaon</td>\n",
       "      <td>NaN</td>\n",
       "      <td>NaN</td>\n",
       "      <td>MG</td>\n",
       "      <td>Hector</td>\n",
       "      <td>1.5</td>\n",
       "    </tr>\n",
       "    <tr>\n",
       "      <th>4</th>\n",
       "      <td>Maruti Suzuki Wagon R 1.0 LXI CNG</td>\n",
       "      <td>315000.0</td>\n",
       "      <td>2015</td>\n",
       "      <td>67,738 km</td>\n",
       "      <td>CNG</td>\n",
       "      <td>Delhi</td>\n",
       "      <td>Great Price</td>\n",
       "      <td>EMI starts at₹5,231</td>\n",
       "      <td>Maruti Suzuki</td>\n",
       "      <td>Wagon R</td>\n",
       "      <td>1.0</td>\n",
       "    </tr>\n",
       "    <tr>\n",
       "      <th>...</th>\n",
       "      <td>...</td>\n",
       "      <td>...</td>\n",
       "      <td>...</td>\n",
       "      <td>...</td>\n",
       "      <td>...</td>\n",
       "      <td>...</td>\n",
       "      <td>...</td>\n",
       "      <td>...</td>\n",
       "      <td>...</td>\n",
       "      <td>...</td>\n",
       "      <td>...</td>\n",
       "    </tr>\n",
       "    <tr>\n",
       "      <th>2464</th>\n",
       "      <td>Kia Seltos GTX 1.4</td>\n",
       "      <td>1653000.0</td>\n",
       "      <td>2020</td>\n",
       "      <td>10,586 km</td>\n",
       "      <td>Petrol</td>\n",
       "      <td>Chennai</td>\n",
       "      <td>NaN</td>\n",
       "      <td>EMI starts at₹27,450</td>\n",
       "      <td>Kia</td>\n",
       "      <td>Seltos</td>\n",
       "      <td>1.4</td>\n",
       "    </tr>\n",
       "    <tr>\n",
       "      <th>2465</th>\n",
       "      <td>Nissan Magnite XV Turbo CVT</td>\n",
       "      <td>996000.0</td>\n",
       "      <td>2022</td>\n",
       "      <td>2,738 km</td>\n",
       "      <td>Petrol</td>\n",
       "      <td>Chennai</td>\n",
       "      <td>NaN</td>\n",
       "      <td>EMI starts at₹16,540</td>\n",
       "      <td>Nissan</td>\n",
       "      <td>Magnite</td>\n",
       "      <td>Turbo</td>\n",
       "    </tr>\n",
       "    <tr>\n",
       "      <th>2466</th>\n",
       "      <td>Hyundai Santro Sportz AMT</td>\n",
       "      <td>495000.0</td>\n",
       "      <td>2022</td>\n",
       "      <td>68,595 km</td>\n",
       "      <td>Petrol</td>\n",
       "      <td>Chennai</td>\n",
       "      <td>Home Test Drive</td>\n",
       "      <td>EMI starts at₹8,220</td>\n",
       "      <td>Hyundai</td>\n",
       "      <td>Santro</td>\n",
       "      <td>AMT</td>\n",
       "    </tr>\n",
       "    <tr>\n",
       "      <th>2467</th>\n",
       "      <td>Honda Amaze 1.2 S i-VTEC</td>\n",
       "      <td>674000.0</td>\n",
       "      <td>2019</td>\n",
       "      <td>93,651 km</td>\n",
       "      <td>Petrol</td>\n",
       "      <td>Chennai</td>\n",
       "      <td>Home Test Drive</td>\n",
       "      <td>EMI starts at₹11,192</td>\n",
       "      <td>Honda</td>\n",
       "      <td>Amaze</td>\n",
       "      <td>S</td>\n",
       "    </tr>\n",
       "    <tr>\n",
       "      <th>2468</th>\n",
       "      <td>Skoda Rapid Style 1.6 MPI</td>\n",
       "      <td>846000.0</td>\n",
       "      <td>2018</td>\n",
       "      <td>61,153 km</td>\n",
       "      <td>Petrol</td>\n",
       "      <td>Chennai</td>\n",
       "      <td>Home Test Drive</td>\n",
       "      <td>EMI starts at₹14,054</td>\n",
       "      <td>Skoda</td>\n",
       "      <td>Rapid</td>\n",
       "      <td>1.6</td>\n",
       "    </tr>\n",
       "  </tbody>\n",
       "</table>\n",
       "<p>2469 rows × 11 columns</p>\n",
       "</div>"
      ],
      "text/plain": [
       "                                            name      price  year        kms  \\\n",
       "0                 Maruti Suzuki Baleno Delta 1.2   476000.0  2016  79,710 km   \n",
       "1              Hyundai Verna Fluidic 1.6 VTVT SX   560000.0  2014  67,000 km   \n",
       "2                Maruti Suzuki Vitara Brezza ZDi   670000.0  2017  78,184 km   \n",
       "3     MG Hector Sharp 1.5 DCT Petrol [2019-2020]  1790000.0  2019  42,046 km   \n",
       "4              Maruti Suzuki Wagon R 1.0 LXI CNG   315000.0  2015  67,738 km   \n",
       "...                                          ...        ...   ...        ...   \n",
       "2464                          Kia Seltos GTX 1.4  1653000.0  2020  10,586 km   \n",
       "2465                 Nissan Magnite XV Turbo CVT   996000.0  2022   2,738 km   \n",
       "2466                   Hyundai Santro Sportz AMT   495000.0  2022  68,595 km   \n",
       "2467                    Honda Amaze 1.2 S i-VTEC   674000.0  2019  93,651 km   \n",
       "2468                   Skoda Rapid Style 1.6 MPI   846000.0  2018  61,153 km   \n",
       "\n",
       "        fuel     city             tags                   emi        company  \\\n",
       "0     Petrol    Delhi              NaN   EMI starts at₹7,904  Maruti Suzuki   \n",
       "1     Petrol    Delhi  Home Test Drive   EMI starts at₹9,299        Hyundai   \n",
       "2     Diesel    Delhi  Home Test Drive  EMI starts at₹11,126  Maruti Suzuki   \n",
       "3     Petrol  Gurgaon              NaN                   NaN             MG   \n",
       "4        CNG    Delhi      Great Price   EMI starts at₹5,231  Maruti Suzuki   \n",
       "...      ...      ...              ...                   ...            ...   \n",
       "2464  Petrol  Chennai              NaN  EMI starts at₹27,450            Kia   \n",
       "2465  Petrol  Chennai              NaN  EMI starts at₹16,540         Nissan   \n",
       "2466  Petrol  Chennai  Home Test Drive   EMI starts at₹8,220        Hyundai   \n",
       "2467  Petrol  Chennai  Home Test Drive  EMI starts at₹11,192          Honda   \n",
       "2468  Petrol  Chennai  Home Test Drive  EMI starts at₹14,054          Skoda   \n",
       "\n",
       "           car_name engine_spec  \n",
       "0          Baleno           1.2  \n",
       "1           Verna           1.6  \n",
       "2     Vitara Brezza         ZDi  \n",
       "3          Hector           1.5  \n",
       "4           Wagon R         1.0  \n",
       "...             ...         ...  \n",
       "2464       Seltos           1.4  \n",
       "2465      Magnite         Turbo  \n",
       "2466       Santro           AMT  \n",
       "2467        Amaze             S  \n",
       "2468        Rapid           1.6  \n",
       "\n",
       "[2469 rows x 11 columns]"
      ]
     },
     "execution_count": 186,
     "metadata": {},
     "output_type": "execute_result"
    }
   ],
   "source": [
    "df"
   ]
  },
  {
   "cell_type": "code",
   "execution_count": 187,
   "id": "a463b668",
   "metadata": {},
   "outputs": [],
   "source": [
    "df.drop(['engine_spec'],axis=1,inplace=True)"
   ]
  },
  {
   "cell_type": "code",
   "execution_count": 193,
   "id": "522b780d",
   "metadata": {},
   "outputs": [
    {
     "data": {
      "text/html": [
       "<div>\n",
       "<style scoped>\n",
       "    .dataframe tbody tr th:only-of-type {\n",
       "        vertical-align: middle;\n",
       "    }\n",
       "\n",
       "    .dataframe tbody tr th {\n",
       "        vertical-align: top;\n",
       "    }\n",
       "\n",
       "    .dataframe thead th {\n",
       "        text-align: right;\n",
       "    }\n",
       "</style>\n",
       "<table border=\"1\" class=\"dataframe\">\n",
       "  <thead>\n",
       "    <tr style=\"text-align: right;\">\n",
       "      <th></th>\n",
       "      <th>0</th>\n",
       "      <th>1</th>\n",
       "      <th>2</th>\n",
       "      <th>3</th>\n",
       "      <th>4</th>\n",
       "      <th>5</th>\n",
       "      <th>6</th>\n",
       "      <th>7</th>\n",
       "      <th>8</th>\n",
       "      <th>9</th>\n",
       "      <th>10</th>\n",
       "    </tr>\n",
       "  </thead>\n",
       "  <tbody>\n",
       "    <tr>\n",
       "      <th>1076</th>\n",
       "      <td>Maruti</td>\n",
       "      <td>Suzuki</td>\n",
       "      <td>Ignis</td>\n",
       "      <td></td>\n",
       "      <td>Sigma</td>\n",
       "      <td>1.2</td>\n",
       "      <td>MT</td>\n",
       "      <td>None</td>\n",
       "      <td>None</td>\n",
       "      <td>None</td>\n",
       "      <td>Ignis</td>\n",
       "    </tr>\n",
       "    <tr>\n",
       "      <th>1057</th>\n",
       "      <td>Maruti</td>\n",
       "      <td>Suzuki</td>\n",
       "      <td>XL6</td>\n",
       "      <td></td>\n",
       "      <td>Zeta</td>\n",
       "      <td>MT</td>\n",
       "      <td>Petrol</td>\n",
       "      <td>None</td>\n",
       "      <td>None</td>\n",
       "      <td>None</td>\n",
       "      <td>XL6</td>\n",
       "    </tr>\n",
       "    <tr>\n",
       "      <th>2383</th>\n",
       "      <td>Maruti</td>\n",
       "      <td>Suzuki</td>\n",
       "      <td>Alto</td>\n",
       "      <td></td>\n",
       "      <td>VXI</td>\n",
       "      <td>None</td>\n",
       "      <td>None</td>\n",
       "      <td>None</td>\n",
       "      <td>None</td>\n",
       "      <td>None</td>\n",
       "      <td>Alto</td>\n",
       "    </tr>\n",
       "    <tr>\n",
       "      <th>1843</th>\n",
       "      <td>Honda</td>\n",
       "      <td>NaN</td>\n",
       "      <td>City</td>\n",
       "      <td></td>\n",
       "      <td>V</td>\n",
       "      <td>None</td>\n",
       "      <td>None</td>\n",
       "      <td>None</td>\n",
       "      <td>None</td>\n",
       "      <td>None</td>\n",
       "      <td>City</td>\n",
       "    </tr>\n",
       "    <tr>\n",
       "      <th>1289</th>\n",
       "      <td>Volkswagen</td>\n",
       "      <td>NaN</td>\n",
       "      <td>Polo</td>\n",
       "      <td></td>\n",
       "      <td>GT</td>\n",
       "      <td>TSI</td>\n",
       "      <td>None</td>\n",
       "      <td>None</td>\n",
       "      <td>None</td>\n",
       "      <td>None</td>\n",
       "      <td>Polo</td>\n",
       "    </tr>\n",
       "    <tr>\n",
       "      <th>70</th>\n",
       "      <td>Land</td>\n",
       "      <td>NaN</td>\n",
       "      <td>Rover</td>\n",
       "      <td></td>\n",
       "      <td>Discovery</td>\n",
       "      <td>Sport</td>\n",
       "      <td>HSE</td>\n",
       "      <td>7-Seater</td>\n",
       "      <td>None</td>\n",
       "      <td>None</td>\n",
       "      <td>Rover</td>\n",
       "    </tr>\n",
       "    <tr>\n",
       "      <th>1598</th>\n",
       "      <td>Renault</td>\n",
       "      <td>NaN</td>\n",
       "      <td>Kwid</td>\n",
       "      <td></td>\n",
       "      <td>1.0</td>\n",
       "      <td>RXT</td>\n",
       "      <td>Opt</td>\n",
       "      <td>[2016-2019]</td>\n",
       "      <td>None</td>\n",
       "      <td>None</td>\n",
       "      <td>Kwid</td>\n",
       "    </tr>\n",
       "    <tr>\n",
       "      <th>1327</th>\n",
       "      <td>Jaguar</td>\n",
       "      <td>NaN</td>\n",
       "      <td>XF</td>\n",
       "      <td></td>\n",
       "      <td>3.0</td>\n",
       "      <td>V6</td>\n",
       "      <td>Premium</td>\n",
       "      <td>Luxury</td>\n",
       "      <td>None</td>\n",
       "      <td>None</td>\n",
       "      <td>XF</td>\n",
       "    </tr>\n",
       "    <tr>\n",
       "      <th>1657</th>\n",
       "      <td>Maruti</td>\n",
       "      <td>Suzuki</td>\n",
       "      <td>Wagon</td>\n",
       "      <td>R</td>\n",
       "      <td>1.0</td>\n",
       "      <td>VXI</td>\n",
       "      <td>None</td>\n",
       "      <td>None</td>\n",
       "      <td>None</td>\n",
       "      <td>None</td>\n",
       "      <td>Wagon R</td>\n",
       "    </tr>\n",
       "    <tr>\n",
       "      <th>1779</th>\n",
       "      <td>Honda</td>\n",
       "      <td>NaN</td>\n",
       "      <td>WR-V</td>\n",
       "      <td></td>\n",
       "      <td>VX</td>\n",
       "      <td>MT</td>\n",
       "      <td>Petrol</td>\n",
       "      <td>None</td>\n",
       "      <td>None</td>\n",
       "      <td>None</td>\n",
       "      <td>WR-V</td>\n",
       "    </tr>\n",
       "    <tr>\n",
       "      <th>106</th>\n",
       "      <td>Maruti</td>\n",
       "      <td>Suzuki</td>\n",
       "      <td>Ertiga</td>\n",
       "      <td></td>\n",
       "      <td>VDI</td>\n",
       "      <td>SHVS</td>\n",
       "      <td>None</td>\n",
       "      <td>None</td>\n",
       "      <td>None</td>\n",
       "      <td>None</td>\n",
       "      <td>Ertiga</td>\n",
       "    </tr>\n",
       "    <tr>\n",
       "      <th>490</th>\n",
       "      <td>Honda</td>\n",
       "      <td>NaN</td>\n",
       "      <td>CR-V</td>\n",
       "      <td></td>\n",
       "      <td>2.4L</td>\n",
       "      <td>4WD</td>\n",
       "      <td>AVN</td>\n",
       "      <td>None</td>\n",
       "      <td>None</td>\n",
       "      <td>None</td>\n",
       "      <td>CR-V</td>\n",
       "    </tr>\n",
       "    <tr>\n",
       "      <th>1838</th>\n",
       "      <td>Hyundai</td>\n",
       "      <td>NaN</td>\n",
       "      <td>Verna</td>\n",
       "      <td></td>\n",
       "      <td>Fluidic</td>\n",
       "      <td>1.6</td>\n",
       "      <td>CRDi</td>\n",
       "      <td>SX</td>\n",
       "      <td>None</td>\n",
       "      <td>None</td>\n",
       "      <td>Verna</td>\n",
       "    </tr>\n",
       "    <tr>\n",
       "      <th>416</th>\n",
       "      <td>Honda</td>\n",
       "      <td>NaN</td>\n",
       "      <td>Civic</td>\n",
       "      <td></td>\n",
       "      <td>ZX</td>\n",
       "      <td>CVT</td>\n",
       "      <td>Petrol</td>\n",
       "      <td>[2019-2020]</td>\n",
       "      <td>None</td>\n",
       "      <td>None</td>\n",
       "      <td>Civic</td>\n",
       "    </tr>\n",
       "    <tr>\n",
       "      <th>17</th>\n",
       "      <td>Renault</td>\n",
       "      <td>NaN</td>\n",
       "      <td>Kwid</td>\n",
       "      <td></td>\n",
       "      <td>RXT</td>\n",
       "      <td>[2015-2019]</td>\n",
       "      <td>None</td>\n",
       "      <td>None</td>\n",
       "      <td>None</td>\n",
       "      <td>None</td>\n",
       "      <td>Kwid</td>\n",
       "    </tr>\n",
       "  </tbody>\n",
       "</table>\n",
       "</div>"
      ],
      "text/plain": [
       "              0       1       2  3          4            5        6   \\\n",
       "1076      Maruti  Suzuki   Ignis         Sigma          1.2       MT   \n",
       "1057      Maruti  Suzuki     XL6          Zeta           MT   Petrol   \n",
       "2383      Maruti  Suzuki    Alto           VXI         None     None   \n",
       "1843       Honda     NaN    City             V         None     None   \n",
       "1289  Volkswagen     NaN    Polo            GT          TSI     None   \n",
       "70          Land     NaN   Rover     Discovery        Sport      HSE   \n",
       "1598     Renault     NaN    Kwid           1.0          RXT      Opt   \n",
       "1327      Jaguar     NaN      XF           3.0           V6  Premium   \n",
       "1657      Maruti  Suzuki   Wagon  R        1.0          VXI     None   \n",
       "1779       Honda     NaN    WR-V            VX           MT   Petrol   \n",
       "106       Maruti  Suzuki  Ertiga           VDI         SHVS     None   \n",
       "490        Honda     NaN    CR-V          2.4L          4WD      AVN   \n",
       "1838     Hyundai     NaN   Verna       Fluidic          1.6     CRDi   \n",
       "416        Honda     NaN   Civic            ZX          CVT   Petrol   \n",
       "17       Renault     NaN    Kwid           RXT  [2015-2019]     None   \n",
       "\n",
       "               7     8     9         10  \n",
       "1076         None  None  None   Ignis    \n",
       "1057         None  None  None     XL6    \n",
       "2383         None  None  None    Alto    \n",
       "1843         None  None  None    City    \n",
       "1289         None  None  None    Polo    \n",
       "70       7-Seater  None  None   Rover    \n",
       "1598  [2016-2019]  None  None    Kwid    \n",
       "1327       Luxury  None  None      XF    \n",
       "1657         None  None  None   Wagon R  \n",
       "1779         None  None  None    WR-V    \n",
       "106          None  None  None  Ertiga    \n",
       "490          None  None  None    CR-V    \n",
       "1838           SX  None  None   Verna    \n",
       "416   [2019-2020]  None  None   Civic    \n",
       "17           None  None  None    Kwid    "
      ]
     },
     "execution_count": 193,
     "metadata": {},
     "output_type": "execute_result"
    }
   ],
   "source": [
    "temp.sample(15)"
   ]
  },
  {
   "cell_type": "code",
   "execution_count": 196,
   "id": "05557387",
   "metadata": {},
   "outputs": [],
   "source": [
    "df['emi']=df['emi'].str.replace('EMI starts at₹','')"
   ]
  },
  {
   "cell_type": "code",
   "execution_count": 200,
   "id": "f9856669",
   "metadata": {},
   "outputs": [],
   "source": [
    "df['emi']=df['emi'].str.replace(',','')"
   ]
  },
  {
   "cell_type": "code",
   "execution_count": 202,
   "id": "c3cb19ce",
   "metadata": {},
   "outputs": [
    {
     "data": {
      "text/plain": [
       "array([nan, 'Home Test Drive', 'Great Price', 'Just Arrived',\n",
       "       'Quality Report', 'Newly Launched'], dtype=object)"
      ]
     },
     "execution_count": 202,
     "metadata": {},
     "output_type": "execute_result"
    }
   ],
   "source": [
    "df['tags'].unique()"
   ]
  },
  {
   "cell_type": "code",
   "execution_count": 205,
   "id": "6217bb66",
   "metadata": {},
   "outputs": [],
   "source": [
    "df['tags']=df['tags'].fillna('No Tag')"
   ]
  },
  {
   "cell_type": "code",
   "execution_count": 208,
   "id": "a868f373",
   "metadata": {},
   "outputs": [],
   "source": [
    "df['kms']=df['kms'].str.replace('km','')"
   ]
  },
  {
   "cell_type": "code",
   "execution_count": 209,
   "id": "5a7c6f71",
   "metadata": {},
   "outputs": [],
   "source": [
    "df['kms']=df['kms'].str.replace(',','')"
   ]
  },
  {
   "cell_type": "code",
   "execution_count": 212,
   "id": "22eb7677",
   "metadata": {},
   "outputs": [],
   "source": [
    "df=df.rename(columns={'emi':'starting_emi'})"
   ]
  },
  {
   "cell_type": "code",
   "execution_count": 215,
   "id": "632cc39a",
   "metadata": {},
   "outputs": [],
   "source": [
    "df.to_csv('carwale_cleaned.csv')"
   ]
  },
  {
   "cell_type": "code",
   "execution_count": 216,
   "id": "20b11a2e",
   "metadata": {},
   "outputs": [
    {
     "name": "stdout",
     "output_type": "stream",
     "text": [
      "<class 'pandas.core.frame.DataFrame'>\n",
      "RangeIndex: 2469 entries, 0 to 2468\n",
      "Data columns (total 10 columns):\n",
      " #   Column        Non-Null Count  Dtype  \n",
      "---  ------        --------------  -----  \n",
      " 0   name          2469 non-null   object \n",
      " 1   price         2469 non-null   float64\n",
      " 2   year          2469 non-null   int64  \n",
      " 3   kms           2469 non-null   object \n",
      " 4   fuel          2469 non-null   object \n",
      " 5   city          2469 non-null   object \n",
      " 6   tags          2469 non-null   object \n",
      " 7   starting_emi  2099 non-null   object \n",
      " 8   company       2469 non-null   object \n",
      " 9   car_name      2469 non-null   object \n",
      "dtypes: float64(1), int64(1), object(8)\n",
      "memory usage: 193.0+ KB\n"
     ]
    }
   ],
   "source": [
    "df.info()"
   ]
  },
  {
   "cell_type": "code",
   "execution_count": null,
   "id": "08b4779e",
   "metadata": {},
   "outputs": [],
   "source": []
  }
 ],
 "metadata": {
  "kernelspec": {
   "display_name": "Python 3",
   "language": "python",
   "name": "python3"
  },
  "language_info": {
   "codemirror_mode": {
    "name": "ipython",
    "version": 3
   },
   "file_extension": ".py",
   "mimetype": "text/x-python",
   "name": "python",
   "nbconvert_exporter": "python",
   "pygments_lexer": "ipython3",
   "version": "3.8.8"
  }
 },
 "nbformat": 4,
 "nbformat_minor": 5
}
